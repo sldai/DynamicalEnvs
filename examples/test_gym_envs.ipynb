{
 "cells": [
  {
   "cell_type": "code",
   "execution_count": 1,
   "metadata": {
    "ExecuteTime": {
     "end_time": "2020-10-03T00:11:21.984961Z",
     "start_time": "2020-10-03T00:11:21.838592Z"
    }
   },
   "outputs": [],
   "source": [
    "import gym\n",
    "import kino_envs\n",
    "import numpy as np\n",
    "import matplotlib.pyplot as plt"
   ]
  },
  {
   "cell_type": "markdown",
   "metadata": {},
   "source": [
    "## Differential Drive\n",
    "\n",
    "The differential drive is an 2D mobile robot. Its state is $[x, y, \\theta, v, \\omega]$ the 2D coordinates, the yaw angle, the speed and the angular velocity. The control is $[a_v, a_{\\omega}]$, the derivative of the speed and the angular velocity. Its dynamics is\n",
    "\n",
    "$$\\begin{bmatrix}\n",
    "\\dot{x}\\\\ \n",
    "\\dot{y}\\\\ \n",
    "\\dot{\\theta}\\\\ \n",
    "\\dot{v}\\\\ \n",
    "\\dot{\\omega}\n",
    "\\end{bmatrix}\n",
    "=\n",
    "\\begin{bmatrix}\n",
    "v\\cos(\\theta)\\\\ \n",
    "v\\sin(\\theta)\\\\ \n",
    "\\omega\\\\ \n",
    "a_v\\\\ \n",
    "a_{\\omega}\n",
    "\\end{bmatrix}$$\n",
    "\n",
    "The task for the robot is to reach the goal region. For reinforcement learning, its observation is 3-folder, including the current state, the acchieved goal and the desired goal. The reward is $1$ if it reaches the goal region, $-0.1$ otherwise.\n",
    "\n"
   ]
  },
  {
   "cell_type": "code",
   "execution_count": 2,
   "metadata": {
    "ExecuteTime": {
     "end_time": "2020-10-03T00:11:22.630102Z",
     "start_time": "2020-10-03T00:11:22.187259Z"
    }
   },
   "outputs": [
    {
     "name": "stdout",
     "output_type": "stream",
     "text": [
      "observation space: Dict(achieved_goal:Box(2,), desired_goal:Box(2,), state:Box(5,))\n",
      "\n",
      "action space: Box(2,)\n"
     ]
    },
    {
     "data": {
      "image/png": "[encoded data removed]",
      "text/plain": [
       "<Figure size 720x720 with 1 Axes>"
      ]
     },
     "metadata": {
      "needs_background": "light"
     },
     "output_type": "display_data"
    }
   ],
   "source": [
    "env = gym.make('DifferentialDrive-v0')\n",
    "print(f'observation space: {env.observation_space}')\n",
    "print()\n",
    "print(f'action space: {env.action_space}')\n",
    "env.reset()\n",
    "env.render()"
   ]
  },
  {
   "cell_type": "markdown",
   "metadata": {},
   "source": [
    "## Differential Drive Obstacle\n",
    "\n",
    "Compared to above, obstacles are added in the environment. The robot needs to avoid collision while run towards the goal. The observation is 4-folder: in addition to the state, the acchieved goal and the desired goal, the agent senses the surrounding environment by a local map. The map indicates the occupancy area, the free area and the robot body via different pixel values. The reward is $-2$ if the robot is in collision, $1$ for goal reaching, $-0.1$ otherwise.\n",
    "\n"
   ]
  },
  {
   "cell_type": "code",
   "execution_count": 3,
   "metadata": {
    "ExecuteTime": {
     "end_time": "2020-10-03T00:11:23.354080Z",
     "start_time": "2020-10-03T00:11:22.878651Z"
    }
   },
   "outputs": [
    {
     "name": "stdout",
     "output_type": "stream",
     "text": [
      "observation space: Dict(achieved_goal:Box(2,), desired_goal:Box(2,), local_map:Box(101, 101, 1), state:Box(5,))\n",
      "\n",
      "action space: Box(2,)\n"
     ]
    },
    {
     "data": {
      "image/png": "[encoded data removed]",
      "text/plain": [
       "<Figure size 720x720 with 1 Axes>"
      ]
     },
     "metadata": {
      "needs_background": "light"
     },
     "output_type": "display_data"
    }
   ],
   "source": [
    "env = gym.make('DifferentialDriveObs-v0')\n",
    "print(f'observation space: {env.observation_space}')\n",
    "print()\n",
    "print(f'action space: {env.action_space}')\n",
    "env.reset()\n",
    "env.render('local_map')"
   ]
  },
  {
   "cell_type": "code",
   "execution_count": 4,
   "metadata": {
    "ExecuteTime": {
     "end_time": "2020-10-03T00:11:26.196706Z",
     "start_time": "2020-10-03T00:11:26.056746Z"
    }
   },
   "outputs": [
    {
     "data": {
      "text/plain": [
       "<matplotlib.image.AxesImage at 0x7f25db275510>"
      ]
     },
     "execution_count": 4,
     "metadata": {},
     "output_type": "execute_result"
    },
    {
     "data": {
      "image/png": "[encoded data removed]",
      "text/plain": [
       "<Figure size 432x288 with 1 Axes>"
      ]
     },
     "metadata": {
      "needs_background": "light"
     },
     "output_type": "display_data"
    }
   ],
   "source": [
    "# show the local map\n",
    "obs = env.get_obs()\n",
    "img = obs['local_map']\n",
    "img = img.reshape((img.shape[:2]))\n",
    "plt.imshow(img)"
   ]
  },
  {
   "cell_type": "code",
   "execution_count": null,
   "metadata": {},
   "outputs": [],
   "source": []
  }
 ],
 "metadata": {
  "kernelspec": {
   "display_name": "Python 3",
   "language": "python",
   "name": "python3"
  },
  "language_info": {
   "codemirror_mode": {
    "name": "ipython",
    "version": 3
   },
   "file_extension": ".py",
   "mimetype": "text/x-python",
   "name": "python",
   "nbconvert_exporter": "python",
   "pygments_lexer": "ipython3",
   "version": "3.7.6"
  },
  "toc": {
   "base_numbering": 1,
   "nav_menu": {},
   "number_sections": false,
   "sideBar": true,
   "skip_h1_title": false,
   "title_cell": "Table of Contents",
   "title_sidebar": "Contents",
   "toc_cell": false,
   "toc_position": {},
   "toc_section_display": true,
   "toc_window_display": false
  }
 },
 "nbformat": 4,
 "nbformat_minor": 4
}
